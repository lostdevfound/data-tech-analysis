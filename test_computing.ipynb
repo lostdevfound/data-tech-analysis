{
 "cells": [
  {
   "cell_type": "code",
   "execution_count": 1,
   "metadata": {
    "collapsed": true
   },
   "outputs": [],
   "source": [
    "import sympy as sp\n",
    "import numpy as np\n",
    "from matplotlib import pyplot as plt\n",
    "#sp.init_printing()"
   ]
  },
  {
   "cell_type": "code",
   "execution_count": 2,
   "metadata": {
    "collapsed": true
   },
   "outputs": [],
   "source": [
    "x, m, n, a, b = sp.symbols('x m n a b')"
   ]
  },
  {
   "cell_type": "markdown",
   "metadata": {},
   "source": [
    "### Cosine integral"
   ]
  },
  {
   "cell_type": "code",
   "execution_count": 3,
   "metadata": {},
   "outputs": [
    {
     "data": {
      "text/plain": [
       "m*(x*sin(n*x) + cos(n*x)/n)/n + (-a*m + b)*sin(n*x)/n"
      ]
     },
     "execution_count": 3,
     "metadata": {},
     "output_type": "execute_result"
    }
   ],
   "source": [
    "f = m/n*(x*sp.sin(n*x) + sp.cos(n*x)/n)+ (-m*a + b)*sp.sin(n*x)/n\n",
    "f"
   ]
  },
  {
   "cell_type": "code",
   "execution_count": 4,
   "metadata": {},
   "outputs": [
    {
     "data": {
      "text/plain": [
       "(m*(n*x*sin(n*x) + cos(n*x)) - n*(a*m - b)*sin(n*x))/n**2"
      ]
     },
     "execution_count": 4,
     "metadata": {},
     "output_type": "execute_result"
    }
   ],
   "source": [
    "f = sp.simplify(f)\n",
    "f"
   ]
  },
  {
   "cell_type": "markdown",
   "metadata": {},
   "source": [
    "### Sin integral"
   ]
  },
  {
   "cell_type": "code",
   "execution_count": 5,
   "metadata": {},
   "outputs": [
    {
     "data": {
      "text/plain": [
       "m*(-x*cos(n*x) + sin(n*x)/n)/n - (-a*m + b)*cos(n*x)/n"
      ]
     },
     "execution_count": 5,
     "metadata": {},
     "output_type": "execute_result"
    }
   ],
   "source": [
    "g = m/n*(-x*sp.cos(n*x) + sp.sin(n*x)/n) - (-m*a + b)*sp.cos(n*x)/n\n",
    "g"
   ]
  },
  {
   "cell_type": "code",
   "execution_count": 6,
   "metadata": {},
   "outputs": [
    {
     "data": {
      "text/plain": [
       "(-m*(n*x*cos(n*x) - sin(n*x)) + n*(a*m - b)*cos(n*x))/n**2"
      ]
     },
     "execution_count": 6,
     "metadata": {},
     "output_type": "execute_result"
    }
   ],
   "source": [
    "g = sp.simplify(g)\n",
    "g"
   ]
  },
  {
   "cell_type": "code",
   "execution_count": 15,
   "metadata": {},
   "outputs": [
    {
     "data": {
      "text/plain": [
       "Piecewise((-a*m*x + b*x + m*x**2/2, Eq(n, 0)), (-a*m*sin(n*x)/n + b*sin(n*x)/n + m*x*sin(n*x)/n + m*cos(n*x)/n**2, True))"
      ]
     },
     "execution_count": 15,
     "metadata": {},
     "output_type": "execute_result"
    }
   ],
   "source": [
    "sp.integrate((m*(x-a) + b)*sp.cos(n*x),x)"
   ]
  },
  {
   "cell_type": "code",
   "execution_count": 13,
   "metadata": {},
   "outputs": [
    {
     "data": {
      "text/plain": [
       "Piecewise((0, Eq(n, 0)), (a*m*cos(n*x)/n - b*cos(n*x)/n - m*x*cos(n*x)/n + m*sin(n*x)/n**2, True))"
      ]
     },
     "execution_count": 13,
     "metadata": {},
     "output_type": "execute_result"
    }
   ],
   "source": [
    "sp.integrate((m*(x-a) + b)*sp.sin(n*x),x)"
   ]
  },
  {
   "cell_type": "code",
   "execution_count": 19,
   "metadata": {},
   "outputs": [],
   "source": [
    "antiderCos = -a*m*sp.sin(n*x)/n + b*sp.sin(n*x)/n + m*x*sp.sin(n*x)/n + m*sp.cos(n*x)/n**2"
   ]
  },
  {
   "cell_type": "code",
   "execution_count": 27,
   "metadata": {},
   "outputs": [
    {
     "data": {
      "text/plain": [
       "2"
      ]
     },
     "execution_count": 27,
     "metadata": {},
     "output_type": "execute_result"
    }
   ],
   "source": [
    "g2 = antiderCos.subs(n,1)\n",
    "g2 = g2.subs(m,1).subs(n,1).subs(a,1).subs(b,1)\n",
    "g1 = g2\n",
    "g1 = g1.subs(x,0)\n",
    "g2 = g2.subs(x,sp.pi)\n",
    "g1 - g2\n"
   ]
  },
  {
   "cell_type": "code",
   "execution_count": 26,
   "metadata": {},
   "outputs": [
    {
     "data": {
      "text/plain": [
       "2"
      ]
     },
     "execution_count": 26,
     "metadata": {},
     "output_type": "execute_result"
    }
   ],
   "source": [
    "sp.integrate(((x-1) + 1)*sp.cos(x),(x,sp.pi,0))"
   ]
  },
  {
   "cell_type": "code",
   "execution_count": 29,
   "metadata": {},
   "outputs": [
    {
     "data": {
      "text/plain": [
       "m*x**2/2 + x*(-a*m + b)"
      ]
     },
     "execution_count": 29,
     "metadata": {},
     "output_type": "execute_result"
    }
   ],
   "source": [
    "sp.integrate(m*(x-a)+b,x)"
   ]
  },
  {
   "cell_type": "code",
   "execution_count": null,
   "metadata": {
    "collapsed": true
   },
   "outputs": [],
   "source": []
  }
 ],
 "metadata": {
  "kernelspec": {
   "display_name": "Python 3",
   "language": "python",
   "name": "python3"
  },
  "language_info": {
   "codemirror_mode": {
    "name": "ipython",
    "version": 3
   },
   "file_extension": ".py",
   "mimetype": "text/x-python",
   "name": "python",
   "nbconvert_exporter": "python",
   "pygments_lexer": "ipython3",
   "version": "3.6.1"
  }
 },
 "nbformat": 4,
 "nbformat_minor": 2
}
