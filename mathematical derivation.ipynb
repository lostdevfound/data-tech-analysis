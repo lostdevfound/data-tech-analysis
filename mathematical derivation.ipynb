{
 "cells": [
  {
   "cell_type": "code",
   "execution_count": 1,
   "metadata": {
    "collapsed": true
   },
   "outputs": [],
   "source": [
    "import sympy as sp\n",
    "import numpy as np\n",
    "from matplotlib import pyplot as plt\n",
    "sp.init_printing()"
   ]
  },
  {
   "cell_type": "code",
   "execution_count": 7,
   "metadata": {
    "collapsed": true
   },
   "outputs": [],
   "source": [
    "x, m, n, a, b = sp.symbols('x m n a b')"
   ]
  },
  {
   "cell_type": "markdown",
   "metadata": {},
   "source": [
    "### Fourier coefficients"
   ]
  },
  {
   "cell_type": "markdown",
   "metadata": {},
   "source": [
    "First, the discrete data is decomposed into the set of linear equations of a type $f_i(x)=m(x-a)+b$, $x\\in[data_n, data_{n+1}]$ and $i = 1, 2,..., size_{data}-1$"
   ]
  },
  {
   "cell_type": "code",
   "execution_count": 8,
   "metadata": {
    "collapsed": true
   },
   "outputs": [],
   "source": [
    "f = m*(x-a) + b"
   ]
  },
  {
   "cell_type": "markdown",
   "metadata": {},
   "source": [
    "Then, we find the coefficient $\\displaystyle b_n=1/\\pi\\sum_{i=0}^{data.size}\\int_{i}^{i+1} f(x)_i\\sin(nx)dx$\n",
    "\n",
    "The full workflow is visualized in desmos: https://www.desmos.com/calculator/sbldizugcg"
   ]
  },
  {
   "cell_type": "markdown",
   "metadata": {},
   "source": [
    "Generalize computations by finding the antiderivative for the $n^{th}$ term for faster python computing $\\displaystyle\\int f(x)_i\\cos(nx)dx$"
   ]
  },
  {
   "cell_type": "code",
   "execution_count": 14,
   "metadata": {},
   "outputs": [
    {
     "data": {
      "text/latex": [
       "$$\\begin{cases} 0 & \\text{for}\\: n = 0 \\\\\\frac{a m}{n} \\cos{\\left (n x \\right )} - \\frac{b}{n} \\cos{\\left (n x \\right )} - \\frac{m x}{n} \\cos{\\left (n x \\right )} + \\frac{m}{n^{2}} \\sin{\\left (n x \\right )} & \\text{otherwise} \\end{cases}$$"
      ],
      "text/plain": [
       "⎧                          0                            for n = 0\n",
       "⎪                                                                \n",
       "⎪a⋅m⋅cos(n⋅x)   b⋅cos(n⋅x)   m⋅x⋅cos(n⋅x)   m⋅sin(n⋅x)           \n",
       "⎨──────────── - ────────── - ──────────── + ──────────  otherwise\n",
       "⎪     n             n             n              2               \n",
       "⎪                                               n                \n",
       "⎩                                                                "
      ]
     },
     "execution_count": 14,
     "metadata": {},
     "output_type": "execute_result"
    }
   ],
   "source": [
    "h = sp.integrate(f*sp.sin(n*x),x)\n",
    "h"
   ]
  },
  {
   "cell_type": "markdown",
   "metadata": {
    "collapsed": true
   },
   "source": [
    "Same goes for sine terms $\\displaystyle\\int f_i(x)\\sin(nx)dx$\n"
   ]
  },
  {
   "cell_type": "code",
   "execution_count": 16,
   "metadata": {},
   "outputs": [
    {
     "data": {
      "text/latex": [
       "$$\\begin{cases} - a m x + b x + \\frac{m x^{2}}{2} & \\text{for}\\: n = 0 \\\\- \\frac{a m}{n} \\sin{\\left (n x \\right )} + \\frac{b}{n} \\sin{\\left (n x \\right )} + \\frac{m x}{n} \\sin{\\left (n x \\right )} + \\frac{m}{n^{2}} \\cos{\\left (n x \\right )} & \\text{otherwise} \\end{cases}$$"
      ],
      "text/plain": [
       "⎧                                    2                             \n",
       "⎪                                 m⋅x                              \n",
       "⎪                  -a⋅m⋅x + b⋅x + ────                    for n = 0\n",
       "⎪                                  2                               \n",
       "⎨                                                                  \n",
       "⎪  a⋅m⋅sin(n⋅x)   b⋅sin(n⋅x)   m⋅x⋅sin(n⋅x)   m⋅cos(n⋅x)           \n",
       "⎪- ──────────── + ────────── + ──────────── + ──────────  otherwise\n",
       "⎪       n             n             n              2               \n",
       "⎩                                                 n                "
      ]
     },
     "execution_count": 16,
     "metadata": {},
     "output_type": "execute_result"
    }
   ],
   "source": [
    "g = sp.integrate(f*sp.cos(n*x),x)\n",
    "g"
   ]
  },
  {
   "cell_type": "markdown",
   "metadata": {
    "collapsed": true
   },
   "source": [
    "The final expressions for the coefficients $a_n$ and $b_n$ $\\displaystyle\\sum_{i=0}^{data_{size}}(g(i+1)-g(i))$ and $\\displaystyle\\sum_{i=0}^{data_{size}}(h(i+1)-h(i))$\n",
    "\n",
    "And the Fourier series $\\displaystyle\\sum_{n=0}^{infinity}(a_n\\cos(nx)+b_n\\sin(nx))$"
   ]
  }
 ],
 "metadata": {
  "kernelspec": {
   "display_name": "Python 3",
   "language": "python",
   "name": "python3"
  },
  "language_info": {
   "codemirror_mode": {
    "name": "ipython",
    "version": 3
   },
   "file_extension": ".py",
   "mimetype": "text/x-python",
   "name": "python",
   "nbconvert_exporter": "python",
   "pygments_lexer": "ipython3",
   "version": "3.6.1"
  }
 },
 "nbformat": 4,
 "nbformat_minor": 2
}
